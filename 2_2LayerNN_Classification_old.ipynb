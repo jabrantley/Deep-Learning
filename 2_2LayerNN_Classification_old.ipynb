{
  "cells": [
    {
      "cell_type": "markdown",
      "metadata": {
        "id": "XWOc48yQrvUI"
      },
      "source": [
        "# Implement simple NN model for classification\n",
        "\n",
        "For this notebook, we will just use MNIST for basic analysis. The purpose is to play with a simple network in pytorch for image classification and tinker with batch norm.  "
      ]
    },
    {
      "cell_type": "code",
      "execution_count": 5,
      "metadata": {
        "colab": {
          "base_uri": "https://localhost:8080/"
        },
        "id": "-mLNTKY8sEUj",
        "outputId": "d25988bb-ce33-45ac-9b0c-991e75a6743f"
      },
      "outputs": [
        {
          "data": {
            "text/plain": [
              "(device(type='cpu'), 4)"
            ]
          },
          "execution_count": 5,
          "metadata": {},
          "output_type": "execute_result"
        }
      ],
      "source": [
        "# imports\n",
        "import os\n",
        "import csv\n",
        "import json\n",
        "import random\n",
        "import pathlib\n",
        "\n",
        "import numpy as np\n",
        "import pandas as pd\n",
        "import matplotlib.pyplot as plt\n",
        "\n",
        "import torch\n",
        "import torch.nn as nn\n",
        "import torch.optim as optim\n",
        "import torch.nn.functional as F\n",
        "from torchvision import datasets, transforms\n",
        "from torch.utils.data import DataLoader, TensorDataset\n",
        "from IPython.display import HTML, display\n",
        "\n",
        "dev = torch.device(\"cuda\" if torch.cuda.is_available() else \"cpu\")\n",
        "dev, torch.get_num_threads()"
      ]
    },
    {
      "cell_type": "markdown",
      "metadata": {},
      "source": [
        "# Get MNIST data\n",
        "Load directly from torchvision"
      ]
    },
    {
      "cell_type": "code",
      "execution_count": 7,
      "metadata": {},
      "outputs": [
        {
          "name": "stdout",
          "output_type": "stream",
          "text": [
            "Downloading http://yann.lecun.com/exdb/mnist/train-images-idx3-ubyte.gz\n",
            "Downloading http://yann.lecun.com/exdb/mnist/train-images-idx3-ubyte.gz to ../data/MNIST/raw/train-images-idx3-ubyte.gz\n"
          ]
        },
        {
          "name": "stderr",
          "output_type": "stream",
          "text": [
            "9913344it [00:01, 6619801.94it/s]                             \n"
          ]
        },
        {
          "name": "stdout",
          "output_type": "stream",
          "text": [
            "Extracting ../data/MNIST/raw/train-images-idx3-ubyte.gz to ../data/MNIST/raw\n",
            "\n",
            "Downloading http://yann.lecun.com/exdb/mnist/train-labels-idx1-ubyte.gz\n",
            "Downloading http://yann.lecun.com/exdb/mnist/train-labels-idx1-ubyte.gz to ../data/MNIST/raw/train-labels-idx1-ubyte.gz\n"
          ]
        },
        {
          "name": "stderr",
          "output_type": "stream",
          "text": [
            "29696it [00:00, 12877796.90it/s]         "
          ]
        },
        {
          "name": "stdout",
          "output_type": "stream",
          "text": [
            "Extracting ../data/MNIST/raw/train-labels-idx1-ubyte.gz to ../data/MNIST/raw\n",
            "\n",
            "Downloading http://yann.lecun.com/exdb/mnist/t10k-images-idx3-ubyte.gz\n",
            "Downloading http://yann.lecun.com/exdb/mnist/t10k-images-idx3-ubyte.gz to ../data/MNIST/raw/t10k-images-idx3-ubyte.gz\n"
          ]
        },
        {
          "name": "stderr",
          "output_type": "stream",
          "text": [
            "\n",
            "1649664it [00:00, 8488192.20it/s]                            \n"
          ]
        },
        {
          "name": "stdout",
          "output_type": "stream",
          "text": [
            "Extracting ../data/MNIST/raw/t10k-images-idx3-ubyte.gz to ../data/MNIST/raw\n",
            "\n",
            "Downloading http://yann.lecun.com/exdb/mnist/t10k-labels-idx1-ubyte.gz\n",
            "Downloading http://yann.lecun.com/exdb/mnist/t10k-labels-idx1-ubyte.gz to ../data/MNIST/raw/t10k-labels-idx1-ubyte.gz\n"
          ]
        },
        {
          "name": "stderr",
          "output_type": "stream",
          "text": [
            "5120it [00:00, 10802231.63it/s]         \n"
          ]
        },
        {
          "name": "stdout",
          "output_type": "stream",
          "text": [
            "Extracting ../data/MNIST/raw/t10k-labels-idx1-ubyte.gz to ../data/MNIST/raw\n",
            "\n"
          ]
        }
      ],
      "source": [
        "# Define transorms to apply to data\n",
        "transform = [transforms.ToTensor(),transforms.Normalize((0.1307,), (0.3081,))]\n",
        "batch_size_train, batch_size_test = 64, 1000\n",
        "\n",
        "# Get training data\n",
        "train_loader = torch.utils.data.DataLoader(datasets.MNIST('../data/', train=True, download=True,\n",
        "                transform=transforms.Compose(transform)),batch_size=batch_size_train, shuffle=True)\n",
        "\n",
        "# Get test data\n",
        "test_loader = torch.utils.data.DataLoader(datasets.MNIST('../data/', train=False, download=True,\n",
        "                             transform=transforms.Compose(transform)),batch_size=batch_size_test, shuffle=True)"
      ]
    },
    {
      "cell_type": "markdown",
      "metadata": {},
      "source": [
        "Let's define a simple network with just a activation(layer) for layer"
      ]
    },
    {
      "cell_type": "code",
      "execution_count": 3,
      "metadata": {},
      "outputs": [],
      "source": [
        "# Set up simple network with user defined activation function and numbber of layer units\n",
        "class Net(nn.Module):\n",
        "    def __init__(self, actv, num_inputs, hidden_units, num_outputs):\n",
        "        super(Net, self).__init__()\n",
        "        # Get activation function\n",
        "        exec('self.actv = nn.%s'%actv)   \n",
        "        # Define layers\n",
        "        self.layers = nn.ModuleList()\n",
        "        for i in range(len(hidden_units)):\n",
        "          next_num_inputs = hidden_units[i] \n",
        "          self.layers += [nn.Linear(num_inputs, next_num_inputs)]\n",
        "          num_inputs = next_num_inputs\n",
        "\n",
        "        self.out = nn.Linear(num_inputs, num_outputs)\n",
        "        \n",
        "    # Make the forward pass\n",
        "    def forward(self, x):\n",
        "        # Flattening\n",
        "        x = x.view(x.shape[0], -1)  \n",
        "        \n",
        "        # Apply activation function to each layer on the input \n",
        "        for layer in self.layers:\n",
        "          x = self.actv(layer(x))\n",
        "        x = self.out(x)\n",
        "        return x"
      ]
    },
    {
      "cell_type": "markdown",
      "metadata": {},
      "source": [
        "Now let's define a main() function for doing the train/test"
      ]
    },
    {
      "cell_type": "code",
      "execution_count": 12,
      "metadata": {},
      "outputs": [],
      "source": [
        "def progress(epoch, loss, epochs=100):\n",
        "    return HTML(\"\"\"\n",
        "        <label for=\"file\">Training loss: {loss}</label>\n",
        "        <progress\n",
        "            value='{epoch}'\n",
        "            max='{epochs}',\n",
        "            style='width: 100%'\n",
        "        >\n",
        "            {epoch}\n",
        "        </progress>\n",
        "    \"\"\".format(loss=loss, epoch=epoch, epochs=epochs))\n",
        "\n",
        "\n",
        "# Define training function\n",
        "def test(data_loader):\n",
        "  correct = 0\n",
        "  total = 0\n",
        "  for (inputs, labels) in data_loader:\n",
        "      # inputs = inputs.to(dev).float()\n",
        "      # labels = labels.to(dev).long()\n",
        "\n",
        "      outputs = net(inputs)\n",
        "      _, predicted = torch.max(outputs, 1)\n",
        "      total += labels.size(0)\n",
        "      correct += (predicted == labels).sum().item()\n",
        "\n",
        "  acc = 100 * correct / total\n",
        "  return total, acc\n",
        "\n",
        "\n",
        "def main(net, criterion, optimizer,train_loader,num_epochs=1, verbose=True, training_plot=True):\n",
        "  if verbose:\n",
        "    progress_bar = display(progress(0, 0, num_epochs), display_id=True)\n",
        "\n",
        "  # Set to train = true\n",
        "  net.train()\n",
        "  training_losses = []\n",
        "\n",
        "  for epoch in range(num_epochs):  # loop over the dataset multiple times\n",
        "      running_loss = 0.0\n",
        "      for i, (inputs,labels) in enumerate(train_loader, 0):\n",
        "          # # get the inputs; data is a list of [inputs, labels]\n",
        "          # inputs, labels = data\n",
        "          # inputs = inputs.to(dev).float()\n",
        "          # labels = labels.to(dev).long()\n",
        "\n",
        "          # zero the parameter gradients\n",
        "          optimizer.zero_grad()\n",
        "\n",
        "          # Make forward pass\n",
        "          outputs = net(inputs)\n",
        "\n",
        "          # Compute Loss\n",
        "          loss = criterion(outputs, labels)\n",
        "\n",
        "          # Make backward pass and step optimizer\n",
        "          loss.backward()\n",
        "          optimizer.step()\n",
        "\n",
        "          # Print statistics\n",
        "          if verbose:\n",
        "            training_losses += [loss.item()]\n",
        "            running_loss += loss.item()\n",
        "            if i % 10 == 9:    # update every 10 mini-batches\n",
        "                progress_bar.update(progress(epoch+1, running_loss / 10, num_epochs))\n",
        "                running_loss = 0.0\n",
        "  \n",
        "  # Evaluate net\n",
        "  net.eval()\n",
        "\n",
        "  train_total, train_acc = test(train_loader)\n",
        "\n",
        "  if verbose:\n",
        "    print('Accuracy on the %d training samples: %0.2f %%' % (train_total, train_acc))\n",
        "\n",
        "  if training_plot:\n",
        "    plt.plot(training_losses)\n",
        "    plt.xlabel('Batch')\n",
        "    plt.ylabel('Training loss')\n",
        "    plt.show()\n",
        "  \n",
        "  return train_acc\n"
      ]
    },
    {
      "cell_type": "code",
      "execution_count": 10,
      "metadata": {},
      "outputs": [
        {
          "data": {
            "text/plain": [
              "torch.Size([64, 1, 28, 28])"
            ]
          },
          "execution_count": 10,
          "metadata": {},
          "output_type": "execute_result"
        }
      ],
      "source": [
        "examples = enumerate(train_loader)\n",
        "batch_idx, (example_data, example_targets) = next(examples)\n",
        "example_data.shape"
      ]
    },
    {
      "cell_type": "code",
      "execution_count": 17,
      "metadata": {},
      "outputs": [
        {
          "data": {
            "text/html": [
              "\n",
              "        <label for=\"file\">Training loss: 0.09552026093006134</label>\n",
              "        <progress\n",
              "            value='16'\n",
              "            max='500',\n",
              "            style='width: 100%'\n",
              "        >\n",
              "            16\n",
              "        </progress>\n",
              "    "
            ],
            "text/plain": [
              "<IPython.core.display.HTML object>"
            ]
          },
          "metadata": {},
          "output_type": "display_data"
        },
        {
          "ename": "KeyboardInterrupt",
          "evalue": "",
          "output_type": "error",
          "traceback": [
            "\u001b[0;31m---------------------------------------------------------------------------\u001b[0m",
            "\u001b[0;31mKeyboardInterrupt\u001b[0m                         Traceback (most recent call last)",
            "\u001b[1;32m/Users/justinbrantley/Dropbox/KLAB/Deep-Learning/2_2LayerNN_Classification_old.ipynb Cell 10'\u001b[0m in \u001b[0;36m<cell line: 6>\u001b[0;34m()\u001b[0m\n\u001b[1;32m      <a href='vscode-notebook-cell:/Users/justinbrantley/Dropbox/KLAB/Deep-Learning/2_2LayerNN_Classification_old.ipynb#ch0000045?line=3'>4</a>\u001b[0m criterion \u001b[39m=\u001b[39m nn\u001b[39m.\u001b[39mCrossEntropyLoss()  \u001b[39m#nn.MultiMarginLoss(margin=1.0) \u001b[39;00m\n\u001b[1;32m      <a href='vscode-notebook-cell:/Users/justinbrantley/Dropbox/KLAB/Deep-Learning/2_2LayerNN_Classification_old.ipynb#ch0000045?line=4'>5</a>\u001b[0m optimizer \u001b[39m=\u001b[39m optim\u001b[39m.\u001b[39mSGD(net\u001b[39m.\u001b[39mparameters(),lr\u001b[39m=\u001b[39m\u001b[39m1e-2\u001b[39m)\u001b[39m#,momentum=0.5)# optim.Adam(net.parameters(), lr=1e-4)\u001b[39;00m\n\u001b[0;32m----> <a href='vscode-notebook-cell:/Users/justinbrantley/Dropbox/KLAB/Deep-Learning/2_2LayerNN_Classification_old.ipynb#ch0000045?line=5'>6</a>\u001b[0m train_acc \u001b[39m=\u001b[39m main(net, criterion, optimizer,train_loader,num_epochs\u001b[39m=\u001b[39;49m\u001b[39m500\u001b[39;49m)\n",
            "\u001b[1;32m/Users/justinbrantley/Dropbox/KLAB/Deep-Learning/2_2LayerNN_Classification_old.ipynb Cell 8'\u001b[0m in \u001b[0;36mmain\u001b[0;34m(net, criterion, optimizer, train_loader, num_epochs, verbose, training_plot)\u001b[0m\n\u001b[1;32m     <a href='vscode-notebook-cell:/Users/justinbrantley/Dropbox/KLAB/Deep-Learning/2_2LayerNN_Classification_old.ipynb#ch0000039?line=38'>39</a>\u001b[0m \u001b[39mfor\u001b[39;00m epoch \u001b[39min\u001b[39;00m \u001b[39mrange\u001b[39m(num_epochs):  \u001b[39m# loop over the dataset multiple times\u001b[39;00m\n\u001b[1;32m     <a href='vscode-notebook-cell:/Users/justinbrantley/Dropbox/KLAB/Deep-Learning/2_2LayerNN_Classification_old.ipynb#ch0000039?line=39'>40</a>\u001b[0m     running_loss \u001b[39m=\u001b[39m \u001b[39m0.0\u001b[39m\n\u001b[0;32m---> <a href='vscode-notebook-cell:/Users/justinbrantley/Dropbox/KLAB/Deep-Learning/2_2LayerNN_Classification_old.ipynb#ch0000039?line=40'>41</a>\u001b[0m     \u001b[39mfor\u001b[39;00m i, (inputs,labels) \u001b[39min\u001b[39;00m \u001b[39menumerate\u001b[39m(train_loader, \u001b[39m0\u001b[39m):\n\u001b[1;32m     <a href='vscode-notebook-cell:/Users/justinbrantley/Dropbox/KLAB/Deep-Learning/2_2LayerNN_Classification_old.ipynb#ch0000039?line=41'>42</a>\u001b[0m         \u001b[39m# # get the inputs; data is a list of [inputs, labels]\u001b[39;00m\n\u001b[1;32m     <a href='vscode-notebook-cell:/Users/justinbrantley/Dropbox/KLAB/Deep-Learning/2_2LayerNN_Classification_old.ipynb#ch0000039?line=42'>43</a>\u001b[0m         \u001b[39m# inputs, labels = data\u001b[39;00m\n\u001b[1;32m     <a href='vscode-notebook-cell:/Users/justinbrantley/Dropbox/KLAB/Deep-Learning/2_2LayerNN_Classification_old.ipynb#ch0000039?line=43'>44</a>\u001b[0m         \u001b[39m# inputs = inputs.to(dev).float()\u001b[39;00m\n\u001b[1;32m     <a href='vscode-notebook-cell:/Users/justinbrantley/Dropbox/KLAB/Deep-Learning/2_2LayerNN_Classification_old.ipynb#ch0000039?line=44'>45</a>\u001b[0m         \u001b[39m# labels = labels.to(dev).long()\u001b[39;00m\n\u001b[1;32m     <a href='vscode-notebook-cell:/Users/justinbrantley/Dropbox/KLAB/Deep-Learning/2_2LayerNN_Classification_old.ipynb#ch0000039?line=45'>46</a>\u001b[0m \n\u001b[1;32m     <a href='vscode-notebook-cell:/Users/justinbrantley/Dropbox/KLAB/Deep-Learning/2_2LayerNN_Classification_old.ipynb#ch0000039?line=46'>47</a>\u001b[0m         \u001b[39m# zero the parameter gradients\u001b[39;00m\n\u001b[1;32m     <a href='vscode-notebook-cell:/Users/justinbrantley/Dropbox/KLAB/Deep-Learning/2_2LayerNN_Classification_old.ipynb#ch0000039?line=47'>48</a>\u001b[0m         optimizer\u001b[39m.\u001b[39mzero_grad()\n\u001b[1;32m     <a href='vscode-notebook-cell:/Users/justinbrantley/Dropbox/KLAB/Deep-Learning/2_2LayerNN_Classification_old.ipynb#ch0000039?line=49'>50</a>\u001b[0m         \u001b[39m# Make forward pass\u001b[39;00m\n",
            "File \u001b[0;32m~/miniconda3/envs/pytorch_local/lib/python3.9/site-packages/torch/utils/data/dataloader.py:530\u001b[0m, in \u001b[0;36m_BaseDataLoaderIter.__next__\u001b[0;34m(self)\u001b[0m\n\u001b[1;32m    <a href='file:///Users/justinbrantley/miniconda3/envs/pytorch_local/lib/python3.9/site-packages/torch/utils/data/dataloader.py?line=527'>528</a>\u001b[0m \u001b[39mif\u001b[39;00m \u001b[39mself\u001b[39m\u001b[39m.\u001b[39m_sampler_iter \u001b[39mis\u001b[39;00m \u001b[39mNone\u001b[39;00m:\n\u001b[1;32m    <a href='file:///Users/justinbrantley/miniconda3/envs/pytorch_local/lib/python3.9/site-packages/torch/utils/data/dataloader.py?line=528'>529</a>\u001b[0m     \u001b[39mself\u001b[39m\u001b[39m.\u001b[39m_reset()\n\u001b[0;32m--> <a href='file:///Users/justinbrantley/miniconda3/envs/pytorch_local/lib/python3.9/site-packages/torch/utils/data/dataloader.py?line=529'>530</a>\u001b[0m data \u001b[39m=\u001b[39m \u001b[39mself\u001b[39;49m\u001b[39m.\u001b[39;49m_next_data()\n\u001b[1;32m    <a href='file:///Users/justinbrantley/miniconda3/envs/pytorch_local/lib/python3.9/site-packages/torch/utils/data/dataloader.py?line=530'>531</a>\u001b[0m \u001b[39mself\u001b[39m\u001b[39m.\u001b[39m_num_yielded \u001b[39m+\u001b[39m\u001b[39m=\u001b[39m \u001b[39m1\u001b[39m\n\u001b[1;32m    <a href='file:///Users/justinbrantley/miniconda3/envs/pytorch_local/lib/python3.9/site-packages/torch/utils/data/dataloader.py?line=531'>532</a>\u001b[0m \u001b[39mif\u001b[39;00m \u001b[39mself\u001b[39m\u001b[39m.\u001b[39m_dataset_kind \u001b[39m==\u001b[39m _DatasetKind\u001b[39m.\u001b[39mIterable \u001b[39mand\u001b[39;00m \\\n\u001b[1;32m    <a href='file:///Users/justinbrantley/miniconda3/envs/pytorch_local/lib/python3.9/site-packages/torch/utils/data/dataloader.py?line=532'>533</a>\u001b[0m         \u001b[39mself\u001b[39m\u001b[39m.\u001b[39m_IterableDataset_len_called \u001b[39mis\u001b[39;00m \u001b[39mnot\u001b[39;00m \u001b[39mNone\u001b[39;00m \u001b[39mand\u001b[39;00m \\\n\u001b[1;32m    <a href='file:///Users/justinbrantley/miniconda3/envs/pytorch_local/lib/python3.9/site-packages/torch/utils/data/dataloader.py?line=533'>534</a>\u001b[0m         \u001b[39mself\u001b[39m\u001b[39m.\u001b[39m_num_yielded \u001b[39m>\u001b[39m \u001b[39mself\u001b[39m\u001b[39m.\u001b[39m_IterableDataset_len_called:\n",
            "File \u001b[0;32m~/miniconda3/envs/pytorch_local/lib/python3.9/site-packages/torch/utils/data/dataloader.py:570\u001b[0m, in \u001b[0;36m_SingleProcessDataLoaderIter._next_data\u001b[0;34m(self)\u001b[0m\n\u001b[1;32m    <a href='file:///Users/justinbrantley/miniconda3/envs/pytorch_local/lib/python3.9/site-packages/torch/utils/data/dataloader.py?line=567'>568</a>\u001b[0m \u001b[39mdef\u001b[39;00m \u001b[39m_next_data\u001b[39m(\u001b[39mself\u001b[39m):\n\u001b[1;32m    <a href='file:///Users/justinbrantley/miniconda3/envs/pytorch_local/lib/python3.9/site-packages/torch/utils/data/dataloader.py?line=568'>569</a>\u001b[0m     index \u001b[39m=\u001b[39m \u001b[39mself\u001b[39m\u001b[39m.\u001b[39m_next_index()  \u001b[39m# may raise StopIteration\u001b[39;00m\n\u001b[0;32m--> <a href='file:///Users/justinbrantley/miniconda3/envs/pytorch_local/lib/python3.9/site-packages/torch/utils/data/dataloader.py?line=569'>570</a>\u001b[0m     data \u001b[39m=\u001b[39m \u001b[39mself\u001b[39;49m\u001b[39m.\u001b[39;49m_dataset_fetcher\u001b[39m.\u001b[39;49mfetch(index)  \u001b[39m# may raise StopIteration\u001b[39;00m\n\u001b[1;32m    <a href='file:///Users/justinbrantley/miniconda3/envs/pytorch_local/lib/python3.9/site-packages/torch/utils/data/dataloader.py?line=570'>571</a>\u001b[0m     \u001b[39mif\u001b[39;00m \u001b[39mself\u001b[39m\u001b[39m.\u001b[39m_pin_memory:\n\u001b[1;32m    <a href='file:///Users/justinbrantley/miniconda3/envs/pytorch_local/lib/python3.9/site-packages/torch/utils/data/dataloader.py?line=571'>572</a>\u001b[0m         data \u001b[39m=\u001b[39m _utils\u001b[39m.\u001b[39mpin_memory\u001b[39m.\u001b[39mpin_memory(data)\n",
            "File \u001b[0;32m~/miniconda3/envs/pytorch_local/lib/python3.9/site-packages/torch/utils/data/_utils/fetch.py:49\u001b[0m, in \u001b[0;36m_MapDatasetFetcher.fetch\u001b[0;34m(self, possibly_batched_index)\u001b[0m\n\u001b[1;32m     <a href='file:///Users/justinbrantley/miniconda3/envs/pytorch_local/lib/python3.9/site-packages/torch/utils/data/_utils/fetch.py?line=46'>47</a>\u001b[0m \u001b[39mdef\u001b[39;00m \u001b[39mfetch\u001b[39m(\u001b[39mself\u001b[39m, possibly_batched_index):\n\u001b[1;32m     <a href='file:///Users/justinbrantley/miniconda3/envs/pytorch_local/lib/python3.9/site-packages/torch/utils/data/_utils/fetch.py?line=47'>48</a>\u001b[0m     \u001b[39mif\u001b[39;00m \u001b[39mself\u001b[39m\u001b[39m.\u001b[39mauto_collation:\n\u001b[0;32m---> <a href='file:///Users/justinbrantley/miniconda3/envs/pytorch_local/lib/python3.9/site-packages/torch/utils/data/_utils/fetch.py?line=48'>49</a>\u001b[0m         data \u001b[39m=\u001b[39m [\u001b[39mself\u001b[39m\u001b[39m.\u001b[39mdataset[idx] \u001b[39mfor\u001b[39;00m idx \u001b[39min\u001b[39;00m possibly_batched_index]\n\u001b[1;32m     <a href='file:///Users/justinbrantley/miniconda3/envs/pytorch_local/lib/python3.9/site-packages/torch/utils/data/_utils/fetch.py?line=49'>50</a>\u001b[0m     \u001b[39melse\u001b[39;00m:\n\u001b[1;32m     <a href='file:///Users/justinbrantley/miniconda3/envs/pytorch_local/lib/python3.9/site-packages/torch/utils/data/_utils/fetch.py?line=50'>51</a>\u001b[0m         data \u001b[39m=\u001b[39m \u001b[39mself\u001b[39m\u001b[39m.\u001b[39mdataset[possibly_batched_index]\n",
            "File \u001b[0;32m~/miniconda3/envs/pytorch_local/lib/python3.9/site-packages/torch/utils/data/_utils/fetch.py:49\u001b[0m, in \u001b[0;36m<listcomp>\u001b[0;34m(.0)\u001b[0m\n\u001b[1;32m     <a href='file:///Users/justinbrantley/miniconda3/envs/pytorch_local/lib/python3.9/site-packages/torch/utils/data/_utils/fetch.py?line=46'>47</a>\u001b[0m \u001b[39mdef\u001b[39;00m \u001b[39mfetch\u001b[39m(\u001b[39mself\u001b[39m, possibly_batched_index):\n\u001b[1;32m     <a href='file:///Users/justinbrantley/miniconda3/envs/pytorch_local/lib/python3.9/site-packages/torch/utils/data/_utils/fetch.py?line=47'>48</a>\u001b[0m     \u001b[39mif\u001b[39;00m \u001b[39mself\u001b[39m\u001b[39m.\u001b[39mauto_collation:\n\u001b[0;32m---> <a href='file:///Users/justinbrantley/miniconda3/envs/pytorch_local/lib/python3.9/site-packages/torch/utils/data/_utils/fetch.py?line=48'>49</a>\u001b[0m         data \u001b[39m=\u001b[39m [\u001b[39mself\u001b[39;49m\u001b[39m.\u001b[39;49mdataset[idx] \u001b[39mfor\u001b[39;00m idx \u001b[39min\u001b[39;00m possibly_batched_index]\n\u001b[1;32m     <a href='file:///Users/justinbrantley/miniconda3/envs/pytorch_local/lib/python3.9/site-packages/torch/utils/data/_utils/fetch.py?line=49'>50</a>\u001b[0m     \u001b[39melse\u001b[39;00m:\n\u001b[1;32m     <a href='file:///Users/justinbrantley/miniconda3/envs/pytorch_local/lib/python3.9/site-packages/torch/utils/data/_utils/fetch.py?line=50'>51</a>\u001b[0m         data \u001b[39m=\u001b[39m \u001b[39mself\u001b[39m\u001b[39m.\u001b[39mdataset[possibly_batched_index]\n",
            "File \u001b[0;32m~/miniconda3/envs/pytorch_local/lib/python3.9/site-packages/torchvision/datasets/mnist.py:145\u001b[0m, in \u001b[0;36mMNIST.__getitem__\u001b[0;34m(self, index)\u001b[0m\n\u001b[1;32m    <a href='file:///Users/justinbrantley/miniconda3/envs/pytorch_local/lib/python3.9/site-packages/torchvision/datasets/mnist.py?line=141'>142</a>\u001b[0m img \u001b[39m=\u001b[39m Image\u001b[39m.\u001b[39mfromarray(img\u001b[39m.\u001b[39mnumpy(), mode\u001b[39m=\u001b[39m\u001b[39m\"\u001b[39m\u001b[39mL\u001b[39m\u001b[39m\"\u001b[39m)\n\u001b[1;32m    <a href='file:///Users/justinbrantley/miniconda3/envs/pytorch_local/lib/python3.9/site-packages/torchvision/datasets/mnist.py?line=143'>144</a>\u001b[0m \u001b[39mif\u001b[39;00m \u001b[39mself\u001b[39m\u001b[39m.\u001b[39mtransform \u001b[39mis\u001b[39;00m \u001b[39mnot\u001b[39;00m \u001b[39mNone\u001b[39;00m:\n\u001b[0;32m--> <a href='file:///Users/justinbrantley/miniconda3/envs/pytorch_local/lib/python3.9/site-packages/torchvision/datasets/mnist.py?line=144'>145</a>\u001b[0m     img \u001b[39m=\u001b[39m \u001b[39mself\u001b[39;49m\u001b[39m.\u001b[39;49mtransform(img)\n\u001b[1;32m    <a href='file:///Users/justinbrantley/miniconda3/envs/pytorch_local/lib/python3.9/site-packages/torchvision/datasets/mnist.py?line=146'>147</a>\u001b[0m \u001b[39mif\u001b[39;00m \u001b[39mself\u001b[39m\u001b[39m.\u001b[39mtarget_transform \u001b[39mis\u001b[39;00m \u001b[39mnot\u001b[39;00m \u001b[39mNone\u001b[39;00m:\n\u001b[1;32m    <a href='file:///Users/justinbrantley/miniconda3/envs/pytorch_local/lib/python3.9/site-packages/torchvision/datasets/mnist.py?line=147'>148</a>\u001b[0m     target \u001b[39m=\u001b[39m \u001b[39mself\u001b[39m\u001b[39m.\u001b[39mtarget_transform(target)\n",
            "File \u001b[0;32m~/miniconda3/envs/pytorch_local/lib/python3.9/site-packages/torchvision/transforms/transforms.py:95\u001b[0m, in \u001b[0;36mCompose.__call__\u001b[0;34m(self, img)\u001b[0m\n\u001b[1;32m     <a href='file:///Users/justinbrantley/miniconda3/envs/pytorch_local/lib/python3.9/site-packages/torchvision/transforms/transforms.py?line=92'>93</a>\u001b[0m \u001b[39mdef\u001b[39;00m \u001b[39m__call__\u001b[39m(\u001b[39mself\u001b[39m, img):\n\u001b[1;32m     <a href='file:///Users/justinbrantley/miniconda3/envs/pytorch_local/lib/python3.9/site-packages/torchvision/transforms/transforms.py?line=93'>94</a>\u001b[0m     \u001b[39mfor\u001b[39;00m t \u001b[39min\u001b[39;00m \u001b[39mself\u001b[39m\u001b[39m.\u001b[39mtransforms:\n\u001b[0;32m---> <a href='file:///Users/justinbrantley/miniconda3/envs/pytorch_local/lib/python3.9/site-packages/torchvision/transforms/transforms.py?line=94'>95</a>\u001b[0m         img \u001b[39m=\u001b[39m t(img)\n\u001b[1;32m     <a href='file:///Users/justinbrantley/miniconda3/envs/pytorch_local/lib/python3.9/site-packages/torchvision/transforms/transforms.py?line=95'>96</a>\u001b[0m     \u001b[39mreturn\u001b[39;00m img\n",
            "File \u001b[0;32m~/miniconda3/envs/pytorch_local/lib/python3.9/site-packages/torchvision/transforms/transforms.py:135\u001b[0m, in \u001b[0;36mToTensor.__call__\u001b[0;34m(self, pic)\u001b[0m\n\u001b[1;32m    <a href='file:///Users/justinbrantley/miniconda3/envs/pytorch_local/lib/python3.9/site-packages/torchvision/transforms/transforms.py?line=126'>127</a>\u001b[0m \u001b[39mdef\u001b[39;00m \u001b[39m__call__\u001b[39m(\u001b[39mself\u001b[39m, pic):\n\u001b[1;32m    <a href='file:///Users/justinbrantley/miniconda3/envs/pytorch_local/lib/python3.9/site-packages/torchvision/transforms/transforms.py?line=127'>128</a>\u001b[0m     \u001b[39m\"\"\"\u001b[39;00m\n\u001b[1;32m    <a href='file:///Users/justinbrantley/miniconda3/envs/pytorch_local/lib/python3.9/site-packages/torchvision/transforms/transforms.py?line=128'>129</a>\u001b[0m \u001b[39m    Args:\u001b[39;00m\n\u001b[1;32m    <a href='file:///Users/justinbrantley/miniconda3/envs/pytorch_local/lib/python3.9/site-packages/torchvision/transforms/transforms.py?line=129'>130</a>\u001b[0m \u001b[39m        pic (PIL Image or numpy.ndarray): Image to be converted to tensor.\u001b[39;00m\n\u001b[0;32m   (...)\u001b[0m\n\u001b[1;32m    <a href='file:///Users/justinbrantley/miniconda3/envs/pytorch_local/lib/python3.9/site-packages/torchvision/transforms/transforms.py?line=132'>133</a>\u001b[0m \u001b[39m        Tensor: Converted image.\u001b[39;00m\n\u001b[1;32m    <a href='file:///Users/justinbrantley/miniconda3/envs/pytorch_local/lib/python3.9/site-packages/torchvision/transforms/transforms.py?line=133'>134</a>\u001b[0m \u001b[39m    \"\"\"\u001b[39;00m\n\u001b[0;32m--> <a href='file:///Users/justinbrantley/miniconda3/envs/pytorch_local/lib/python3.9/site-packages/torchvision/transforms/transforms.py?line=134'>135</a>\u001b[0m     \u001b[39mreturn\u001b[39;00m F\u001b[39m.\u001b[39;49mto_tensor(pic)\n",
            "File \u001b[0;32m~/miniconda3/envs/pytorch_local/lib/python3.9/site-packages/torchvision/transforms/functional.py:155\u001b[0m, in \u001b[0;36mto_tensor\u001b[0;34m(pic)\u001b[0m\n\u001b[1;32m    <a href='file:///Users/justinbrantley/miniconda3/envs/pytorch_local/lib/python3.9/site-packages/torchvision/transforms/functional.py?line=152'>153</a>\u001b[0m img \u001b[39m=\u001b[39m img\u001b[39m.\u001b[39mpermute((\u001b[39m2\u001b[39m, \u001b[39m0\u001b[39m, \u001b[39m1\u001b[39m))\u001b[39m.\u001b[39mcontiguous()\n\u001b[1;32m    <a href='file:///Users/justinbrantley/miniconda3/envs/pytorch_local/lib/python3.9/site-packages/torchvision/transforms/functional.py?line=153'>154</a>\u001b[0m \u001b[39mif\u001b[39;00m \u001b[39misinstance\u001b[39m(img, torch\u001b[39m.\u001b[39mByteTensor):\n\u001b[0;32m--> <a href='file:///Users/justinbrantley/miniconda3/envs/pytorch_local/lib/python3.9/site-packages/torchvision/transforms/functional.py?line=154'>155</a>\u001b[0m     \u001b[39mreturn\u001b[39;00m img\u001b[39m.\u001b[39;49mto(dtype\u001b[39m=\u001b[39;49mdefault_float_dtype)\u001b[39m.\u001b[39;49mdiv(\u001b[39m255\u001b[39;49m)\n\u001b[1;32m    <a href='file:///Users/justinbrantley/miniconda3/envs/pytorch_local/lib/python3.9/site-packages/torchvision/transforms/functional.py?line=155'>156</a>\u001b[0m \u001b[39melse\u001b[39;00m:\n\u001b[1;32m    <a href='file:///Users/justinbrantley/miniconda3/envs/pytorch_local/lib/python3.9/site-packages/torchvision/transforms/functional.py?line=156'>157</a>\u001b[0m     \u001b[39mreturn\u001b[39;00m img\n",
            "\u001b[0;31mKeyboardInterrupt\u001b[0m: "
          ]
        }
      ],
      "source": [
        "hidden_layers = [32]\n",
        "# net = BNDeepNet().to(dev) \n",
        "net = Net('ReLU()', 1*28*28, hidden_layers, 10).to(dev) \n",
        "criterion = nn.CrossEntropyLoss()  #nn.MultiMarginLoss(margin=1.0) \n",
        "optimizer = optim.SGD(net.parameters(),lr=1e-2)#,momentum=0.5)# optim.Adam(net.parameters(), lr=1e-4)\n",
        "train_acc = main(net, criterion, optimizer,train_loader,num_epochs=500)"
      ]
    },
    {
      "cell_type": "code",
      "execution_count": null,
      "metadata": {
        "id": "hFpjwPq78MdR"
      },
      "outputs": [],
      "source": [
        "# # @title Helper functions\n",
        "# def imshow(img):\n",
        "#     img = img / 2 + 0.5     # unnormalize\n",
        "#     npimg = img.numpy()\n",
        "#     plt.imshow(np.transpose(npimg, (1, 2, 0)))\n",
        "#     plt.axis(False)\n",
        "#     plt.show()\n",
        "\n",
        "# def progress(epoch, loss, epochs=100):\n",
        "#     return HTML(\"\"\"\n",
        "#         <label for=\"file\">Training loss: {loss}</label>\n",
        "#         <progress\n",
        "#             value='{epoch}'\n",
        "#             max='{epochs}',\n",
        "#             style='width: 100%'\n",
        "#         >\n",
        "#             {epoch}\n",
        "#         </progress>\n",
        "#     \"\"\".format(loss=loss, epoch=epoch, epochs=epochs))"
      ]
    },
    {
      "cell_type": "code",
      "execution_count": null,
      "metadata": {
        "id": "LXcZbnSjPq_2"
      },
      "outputs": [],
      "source": [
        "class BNDeepNet(nn.Module):\n",
        "    def __init__(self):\n",
        "        super(BNDeepNet, self).__init__()\n",
        "        self.fc1 = nn.Linear(3*32*32, 128)\n",
        "        self.fc2 = nn.Linear(128, 64)\n",
        "        self.fc3 = nn.Linear(64, 32)\n",
        "        self.fc4 = nn.Linear(32, 32)\n",
        "        self.fc5 = nn.Linear(32, 3)\n",
        "        self.bn1 = nn.BatchNorm1d(128)\n",
        "        self.bn2 = nn.BatchNorm1d(64)\n",
        "        self.bn3 = nn.BatchNorm1d(32)\n",
        "        self.bn4 = nn.BatchNorm1d(32)\n",
        "        self.dropout = nn.Dropout(0.5)\n",
        "        \n",
        "    def forward(self, x):\n",
        "        x = self.fc1(x)\n",
        "        x = self.bn1(x)\n",
        "        x = F.relu(x)\n",
        "        x = self.fc2(x)\n",
        "        x = self.bn2(x)\n",
        "        x = F.relu(x)\n",
        "        x = self.fc3(x)\n",
        "        x = self.bn3(x)\n",
        "        x = F.relu(x)\n",
        "        x = self.fc4(x)\n",
        "        x = self.bn4(x)\n",
        "        x = F.relu(x)\n",
        "        x = self.dropout(x)\n",
        "        x = self.fc5(x)\n",
        "        return x"
      ]
    },
    {
      "cell_type": "code",
      "execution_count": null,
      "metadata": {
        "id": "XB9gCLi65txD"
      },
      "outputs": [],
      "source": [
        "data = np.array(df)\n",
        "\n",
        "X_train = torch.tensor(data[:, 1:]).float()/255\n",
        "y_train = torch.tensor(data[:, 0]).long()"
      ]
    },
    {
      "cell_type": "code",
      "execution_count": null,
      "metadata": {
        "id": "laqU5kuxwOnD"
      },
      "outputs": [],
      "source": [
        "batch_size = 128\n",
        "train_data = TensorDataset(X_train, y_train)\n",
        "train_loader = DataLoader(train_data, batch_size=batch_size, drop_last=True,\n",
        "                        shuffle=True, num_workers=10)"
      ]
    },
    {
      "cell_type": "code",
      "execution_count": null,
      "metadata": {
        "id": "6DUVNbJiwSfj"
      },
      "outputs": [],
      "source": [
        "def train_test_classification(net, criterion, optimizer,\n",
        "                              train_loader,\n",
        "                              num_epochs=1, verbose=True,\n",
        "                              training_plot=True):\n",
        "  if verbose:\n",
        "    progress_bar = display(progress(0, 0, num_epochs), display_id=True)\n",
        "\n",
        "  net.train()\n",
        "  training_losses = []\n",
        "  for epoch in range(num_epochs):  # loop over the dataset multiple times\n",
        "      running_loss = 0.0\n",
        "      for i, (inputs,labels) in enumerate(train_loader, 0):\n",
        "          # # get the inputs; data is a list of [inputs, labels]\n",
        "          # inputs, labels = data\n",
        "          # inputs = inputs.to(dev).float()\n",
        "          # labels = labels.to(dev).long()\n",
        "\n",
        "          # zero the parameter gradients\n",
        "          optimizer.zero_grad()\n",
        "\n",
        "          # Make forward pass\n",
        "          outputs = net(inputs)\n",
        "\n",
        "          # Compute Loss\n",
        "          loss = criterion(outputs, labels)\n",
        "\n",
        "          # Make backward pass and step optimizer\n",
        "          loss.backward()\n",
        "          optimizer.step()\n",
        "\n",
        "          # Print statistics\n",
        "          if verbose:\n",
        "            training_losses += [loss.item()]\n",
        "            running_loss += loss.item()\n",
        "            if i % 10 == 9:    # update every 10 mini-batches\n",
        "                progress_bar.update(progress(epoch+1, running_loss / 10, num_epochs))\n",
        "                running_loss = 0.0\n",
        "  \n",
        "  # Evaluate net\n",
        "  net.eval()\n",
        "\n",
        "  # Define training function\n",
        "  def test(data_loader):\n",
        "    correct = 0\n",
        "    total = 0\n",
        "    for (inputs, labels) in data_loader:\n",
        "        # inputs = inputs.to(dev).float()\n",
        "        # labels = labels.to(dev).long()\n",
        "\n",
        "        outputs = net(inputs)\n",
        "        _, predicted = torch.max(outputs, 1)\n",
        "        total += labels.size(0)\n",
        "        correct += (predicted == labels).sum().item()\n",
        "\n",
        "    acc = 100 * correct / total\n",
        "    return total, acc\n",
        "\n",
        "\n",
        "  train_total, train_acc = test(train_loader)\n",
        "\n",
        "  if verbose:\n",
        "    print('Accuracy on the %d training samples: %0.2f %%' % (train_total, train_acc))\n",
        "\n",
        "  if training_plot:\n",
        "    plt.plot(training_losses)\n",
        "    plt.xlabel('Batch')\n",
        "    plt.ylabel('Training loss')\n",
        "    plt.show()\n",
        "  \n",
        "  return train_acc"
      ]
    },
    {
      "cell_type": "code",
      "execution_count": null,
      "metadata": {
        "colab": {
          "base_uri": "https://localhost:8080/",
          "height": 332
        },
        "id": "OJd1-YuAwau6",
        "outputId": "cf4a0eb7-3b32-44c2-bbc0-579f7117f85e"
      },
      "outputs": [
        {
          "data": {
            "text/html": [
              "\n",
              "        <label for=\"file\">Training loss: 0.0005036335554905236</label>\n",
              "        <progress\n",
              "            value='500'\n",
              "            max='500',\n",
              "            style='width: 100%'\n",
              "        >\n",
              "            500\n",
              "        </progress>\n",
              "    "
            ],
            "text/plain": [
              "<IPython.core.display.HTML object>"
            ]
          },
          "metadata": {
            "tags": []
          },
          "output_type": "display_data"
        },
        {
          "name": "stdout",
          "output_type": "stream",
          "text": [
            "Accuracy on the 14592 training samples: 99.93 %\n"
          ]
        },
        {
          "data": {
            "image/png": "[encoded data removed]",
            "text/plain": [
              "<Figure size 432x288 with 1 Axes>"
            ]
          },
          "metadata": {
            "needs_background": "light",
            "tags": []
          },
          "output_type": "display_data"
        }
      ],
      "source": [
        "hidden_layers = [128, 64, 32]\n",
        "batch_size = 128\n",
        "# net = BNDeepNet().to(dev) \n",
        "net = Net('ReLU()', 3*32*32, hidden_layers, 3).to(dev) \n",
        "criterion = nn.MultiMarginLoss(margin=1.0) #nn.CrossEntropyLoss()  \n",
        "optimizer = optim.Adam(net.parameters(), lr=1e-4)\n",
        "train_acc = train_test_classification(net, criterion, optimizer,\n",
        "                                      train_loader,\n",
        "                                      num_epochs=500)"
      ]
    },
    {
      "cell_type": "code",
      "execution_count": null,
      "metadata": {
        "colab": {
          "base_uri": "https://localhost:8080/"
        },
        "id": "G9Vzhqtr7c6Y",
        "outputId": "b81521ab-fadd-4362-f422-40c2d9809f97"
      },
      "outputs": [
        {
          "name": "stdout",
          "output_type": "stream",
          "text": [
            "   pixel1  pixel2  pixel3  pixel4  ...  pixel3069  pixel3070  pixel3071  pixel3072\n",
            "0     222     191     140     216  ...        181        161        139         96\n",
            "1     119      76      65      32  ...        115         33         51        167\n",
            "2     157      92     110     181  ...        171        141        128         86\n",
            "3      93     173      78      68  ...        165         71        190        102\n",
            "4     161     213      44     172  ...        207        225        189         70\n",
            "\n",
            "[5 rows x 3072 columns]\n"
          ]
        }
      ],
      "source": [
        "# Predict test set\n",
        "df = pd.read_csv('test.csv')\n",
        "print(df.head())\n",
        "data = np.array(df)\n",
        "X_test = torch.tensor(data).float()/255\n",
        "\n",
        "\n",
        "\n",
        "net.eval()\n",
        "y_pred = net(X_test.to(dev))\n",
        "labels_pred = torch.argmax(y_pred, dim=1)\n"
      ]
    },
    {
      "cell_type": "code",
      "execution_count": null,
      "metadata": {
        "id": "rAOeoZH48OuJ"
      },
      "outputs": [],
      "source": [
        "# create the submission file\n",
        "header = ['ImageId', 'Label']\n",
        "with open('submission.csv', 'w', newline='') as file:\n",
        "    writer = csv.writer(file)\n",
        "    writer.writerow(header)\n",
        "    \n",
        "    for i in range(len(labels_pred)):\n",
        "      writer.writerow([i+1] + [labels_pred[i].item()])"
      ]
    },
    {
      "cell_type": "code",
      "execution_count": null,
      "metadata": {
        "colab": {
          "base_uri": "https://localhost:8080/"
        },
        "id": "XEojRbYH9adp",
        "outputId": "4adb2e09-b576-4ffa-b470-4f7f8ad74b2a"
      },
      "outputs": [
        {
          "name": "stdout",
          "output_type": "stream",
          "text": [
            "100% 10.7k/10.7k [00:00<00:00, 61.1kB/s]\n",
            "Successfully submitted to Permuted Animal Faces"
          ]
        }
      ],
      "source": [
        "# submit\n",
        "!kaggle competitions submit permuted-animal-faces -f submission.csv -m \" increase batch to 500 and use Net with hiddne layers  128, 64, 32] and w/multi-margin loss and lr=1e-4\" #\"Result with same model as in the tutorial\""
      ]
    },
    {
      "cell_type": "markdown",
      "metadata": {
        "id": "p_gDgatsCKJL"
      },
      "source": [
        "Note that you can submit maximum 20 times a day. Participants will need to wait until the next UTC day after submitting the maximum number of daily submissions.\n",
        "\n",
        "And finally you can hand select 2 submissions among your previous ones to be used for the final ranking."
      ]
    },
    {
      "cell_type": "markdown",
      "metadata": {
        "id": "_GEV3MSbDQX3"
      },
      "source": [
        "# Part 2. Deep Learning, Deeper Thinking\n",
        "\n"
      ]
    },
    {
      "cell_type": "markdown",
      "metadata": {
        "id": "2vh4iLLj0qN0"
      },
      "source": [
        "## 2.1 Our Data-Processing Wish List\n",
        "\n",
        "By now you should be pretty familiar with classifying animal faces using multi-layer perceptrons. MLPs make very few assumptions about the underlying structure of the data, which make them very flexible in approximating a wide variety of functions. However, sometimes it can be helpful to constrain the set of possible functions we want to approximate by introducing some \"rules\" that these functions need to follow. We call these rules **inductive biases**. \n",
        "\n",
        "For example, one inductive bias might be the rule that \"A cat is a cat, no matter where it is placed in the image. An upper-left-corner cat is just as much of a cat as a lower-right-corner cat.\" That describes an inductive bias called **translational invariance**, which basically says that the class of an object is invariant to translation (it doesn't matter where it is, as long as it's there). If we could have a model that preserves translational invariance, chances are it would be helpful in finding us good models for image processing (more on this later). \n",
        "\n",
        "**Now that you're familiar with the concept of inductive biases, please do the following:**\n",
        "* List one inductive bias other than translational invariance that would be good to have for image processing\n",
        "* Suppose you're trying to develop a model to assign credit scores to people based on their personal data. What kind of inductive biases or data guarantees would you want to impose on this system?"
      ]
    },
    {
      "cell_type": "code",
      "execution_count": null,
      "metadata": {
        "id": "7DfgGaluts9P"
      },
      "outputs": [],
      "source": [
        "#Delete the starter text, enter your response, and run the cell.\n",
        "q_2_1 = ''' Rotational invariance would also be a desireable trait of a network.\n",
        "Like the example, a cat is a cat whether no matter if its rotated within the image. \n",
        "\n",
        "First, we might assume that all credit scores belong to some specific distribution. Second,\n",
        "we an introducing bias when we hand select features (personal data in this case) to be used in the model. \n",
        "A good model of credit score should account for all aspects of fiscal behavior, but limit the use\n",
        "of non-financial information. This is potentially problematic if predictors, such as race, gender, religious identity, etc. are applied. \n",
        "For example, race may end up being a strong predictor of credit score. However, this is completely\n",
        "tied to social and economic inequality between racial groups. Thus, while there may be a correlation \n",
        "between this feature and race, the model would likely apply a lower credit score to individual w/o \n",
        "even considering their finances. The model is not a predictor of credit based on fiscal responsibility, but \n",
        "instead on race, gender, or other personal characteristics. \n",
        "\n",
        "On the other hand, if we wanted to equity into the network, we might bias our priors or introduce strong likelihoods\n",
        "that produce a more favorable posterior for disenfranchised groups. While this does not treat everyone equal, we might\n",
        "give certain groups a more positive bias to account for negative credit score impact from racist or sexist features. \n",
        "this type of approach may drive credit scores to be more equal in outcome, and thus, over a long time scale, might \n",
        "result in more loans and greater financial trust of underrepresented groups. \n",
        "\n",
        "'''"
      ]
    },
    {
      "cell_type": "markdown",
      "metadata": {
        "id": "RxuEtqNmxqkT"
      },
      "source": [
        "## 2.2 The Ethics of Facial Recognition\n",
        "In part 1, we just had you create a network that was good at classifying faces of animals. What happens when this technologies are used on humans? What happens when these technologies are used by law enforcement? In this section, we'll explore these implications. So play your favorite Lo-Fi Beats to Study/Relax To and let's get started!\n"
      ]
    },
    {
      "cell_type": "markdown",
      "metadata": {
        "id": "RO8qZ_IDxL8g"
      },
      "source": [
        "### 2.2.1 **America Under Watch**\n",
        "As data scientists, we often complain that we don't have enough data. Sometimes lack of good data isn't the problem. What happens if we collect data *everywhere*? In many countries around the world, facial recognition is used by law enforcement to conduct wide-scale law enforcement. Thankfully that's not the case in the United States. Right? \n",
        "\n",
        "*... Right?* \n",
        "\n",
        "Read the following:\n",
        "\n",
        "* https://www.americaunderwatch.com/\n",
        "\n",
        "**In 200-300 words, please answer the following questions.** \n",
        "* In America Under Watch, the Georgetown Law Center proposes a moratorium (temporary freeze) on the police use of facial recognition. Do you agree or disagree with this choice, and why? \n",
        "* The article mentions the fact that *facial surveillance is disproportionately likely to impact communities of color and communities with lower socio-economic status (SES)*. Think about what this means about what amount + what kinds of data law enforcement collect on people of color. How might this perpetuate cycles of incarceration for people of color in the U.S.?\n",
        "* If facial recognition were to be put in place in a highly secure location, like the White House, what kind of inductive biases would you want to ensure that such a system would have? What guarantees might you want to have about the data that is used to train the network, the data that is collected, and what is done with the data afterward? \n",
        "\n"
      ]
    },
    {
      "cell_type": "code",
      "execution_count": null,
      "metadata": {
        "id": "i7Bz8XqX26yt"
      },
      "outputs": [],
      "source": [
        "#Delete the starter text, enter your response, and run the cell.\n",
        "q_2_2_1 = '''\n",
        "Your Response to Q 2.2.1 Here (200 - 300 words)\n",
        "\n",
        "- A moratoriam is simply saying that we should not do it right now, but maybe later. The question is if this technology belongs in\n",
        "our society at all or if we are willing to accept it as part of our security measures. While I do not support the use of widespread\n",
        "facial recognition by police in public spaces, I think it is simply inevitable. We should impose a moritorium and then our focus\n",
        "should be on legislation and regulation to ensure that any use of this technology is constitutional and fair. \n",
        "\n",
        "- The prison system is flawed in so many ways, but one of the worst issues is how we reintroduce people into society. We remove \n",
        "people from society and place them in a lonely, isolated, and violent environment for long sentences and then release them and expect\n",
        "them to seamlessly rejoin society. We offer poor or no resources and impose strict probation/parole rules. Even the most minor violations,\n",
        "like being 5 min late to a meeting due to delayed public transportation, can result in one being thrown back in prison. \n",
        "In my opinion, facial recognition and monitoring of those on court supervision would be akin to entrapment. No one member of society commits\n",
        "zero violations of the law. We just are not held accountable for every time we exceed the speed limit, jaywalk, etc. This type of \n",
        "constant monitoring would surely result in a constant cycle of prison-release-prison, especially for individuals already targeted by police, like \n",
        "communities of color. \n",
        "\n",
        "- First off, we would want to ensure that the data are trained on an appropriately diverse data and then no labels are assigned to these individuals\n",
        "that would allow for targeting based on class, religion, etc. A bias we would desire is signficant performance with minimal error. If a level of confidence\n",
        "cannot be achieved, the image should be labeled as unrecognized, not the closest guess. In Jan 2020, a black man was arrested in Detroit based on facial\n",
        "recognition in footage obtained by police. The only resemblance was the fact that both were black. While we do not know the inner workings of the network, \n",
        "many networks have a discrete set of choices and will result in some kind of output. That means that a bias in the system would impose classification scheme \n",
        "in which matches are provided based on probability. This means that the highest probability would be assigned as the match, when this may not be a close match at all,\n",
        "but simply a high enough probability. \n",
        "\n",
        "\n",
        "'''"
      ]
    },
    {
      "cell_type": "markdown",
      "metadata": {
        "id": "b5qeXoWo3Bb6"
      },
      "source": [
        "### 2.2.2 **Grab Some Popcorn**\n"
      ]
    },
    {
      "cell_type": "code",
      "execution_count": null,
      "metadata": {
        "cellView": "form",
        "colab": {
          "base_uri": "https://localhost:8080/",
          "height": 518
        },
        "id": "wZ8751Th3Vh4",
        "outputId": "a8912404-f558-4724-d692-c00db3a9ba83"
      },
      "outputs": [
        {
          "name": "stdout",
          "output_type": "stream",
          "text": [
            "Video available at https://youtube.com/watch?v=jZjmlJPJgug\n"
          ]
        },
        {
          "data": {
            "image/jpeg": "[encoded data removed]",
            "text/html": [
              "\n",
              "        <iframe\n",
              "            width=\"854\"\n",
              "            height=\"480\"\n",
              "            src=\"https://www.youtube.com/embed/jZjmlJPJgug?fs=1\"\n",
              "            frameborder=\"0\"\n",
              "            allowfullscreen\n",
              "        ></iframe>\n",
              "        "
            ],
            "text/plain": [
              "<IPython.lib.display.YouTubeVideo at 0x7fcfe7c19208>"
            ]
          },
          "execution_count": 1,
          "metadata": {
            "tags": []
          },
          "output_type": "execute_result"
        }
      ],
      "source": [
        "#@markdown That's enough reading for today, don't you think? Grab some popcorn, run this cell, and watch this video\n",
        "from IPython.display import YouTubeVideo\n",
        "video = YouTubeVideo(id=\"jZjmlJPJgug\", width=854, height=480, fs=1)\n",
        "print(\"Video available at https://youtube.com/watch?v=\" + video.id)\n",
        "\n",
        "video"
      ]
    },
    {
      "cell_type": "markdown",
      "metadata": {
        "id": "T79vzE1K4Ho7"
      },
      "source": [
        "**In 200-300 words, please answer the following questions**\n",
        "* In the segment, John Oliver mentions that Clearview AI uses \"publicly available data\", which includes public profile information on Facebook, LinkedIn, Twitter, and Instagram. Clearview argues that this information has all been willingly made public. Do you agree? Why or why not?\n",
        "* Some prominent data scientists claim that \"data/algorithms don't have bias, people have bias\". Do you agree with this sentiment? Why or why not?\n"
      ]
    },
    {
      "cell_type": "code",
      "execution_count": null,
      "metadata": {
        "id": "gqFIndfb4ubV"
      },
      "outputs": [],
      "source": [
        "#Delete the starter text, enter your response, and run the cell.\n",
        "q_2_2_2 = '''\n",
        "- Clearview is clearly acting outside of the law by violating social media terms of service. Just because a car is parked on the street does not mean I can own it if I get in it and start it. Publically accessible does not equal public availabitliy here. Sure, it is \n",
        "almost impossible to stop people from finding our picture on the internet, but using it as data is a violation.\n",
        "\n",
        "- Models are trained to learn based on their structure and the data they are given. Humans choose the model structure, the loss, and then data. I think models become bias because we\n",
        "push them to learn that way. I do not know if I think models are inherently bias w/o human influence. \n",
        "\n",
        "'''"
      ]
    },
    {
      "cell_type": "markdown",
      "metadata": {
        "id": "lxsQXMFc8v91"
      },
      "source": [
        "# Submit to Airtable\n",
        "**Don't forget to contribute to the conversation in your pod slack channel.** You can do so by copying and pasting some or all of the answers to the above questions, or by commenting and responding to other people's posts.\n"
      ]
    },
    {
      "cell_type": "code",
      "execution_count": null,
      "metadata": {
        "cellView": "form",
        "colab": {
          "base_uri": "https://localhost:8080/",
          "height": 421
        },
        "id": "AlH_Ub579KEJ",
        "outputId": "21927930-ecfd-4921-d985-c0362f88ff18"
      },
      "outputs": [
        {
          "data": {
            "text/html": [
              "\n",
              "        <iframe\n",
              "            width=\"800\"\n",
              "            height=\"400\"\n",
              "            src=\"https://airtable.com/embed/shrzuKoahe4ZQKvND?prefill_pennkey=jabrantl&prefill_pod=superfluous-lyrebird&prefill_q_2_1=+Rotational+invariance+would+also+be+a+desireable+trait+of+a+network.\n",
              "Like+the+example,+a+cat+is+a+cat+whether+no+matter+if+its+rotated+within+the+image.+\n",
              "\n",
              "First,+we+might+assume+that+all+credit+scores+belong+to+some+specific+distribution.+Second,\n",
              "we+an+introducing+bias+when+we+hand+select+features+(personal+data+in+this+case)+to+be+used+in+the+model.+\n",
              "A+good+model+of+credit+score+should+account+for+all+aspects+of+fiscal+behavior,+but+limit+the+use\n",
              "of+non-financial+information.+This+is+potentially+problematic+if+predictors,+such+as+race,+gender,+religious+identity,+etc.+are+applied.+\n",
              "For+example,+race+may+end+up+being+a+strong+predictor+of+credit+score.+However,+this+is+completely\n",
              "tied+to+social+and+economic+inequality+between+racial+groups.+Thus,+while+there+may+be+a+correlation+\n",
              "between+this+feature+and+race,+the+model+would+likely+apply+a+lower+credit+score+to+individual+w/o+\n",
              "even+considering+their+finances.+The+model+is+not+a+predictor+of+credit+based+on+fiscal+responsibility,+but+\n",
              "instead+on+race,+gender,+or+other+personal+characteristics.+\n",
              "\n",
              "On+the+other+hand,+if+we+wanted+to+equity+into+the+network,+we+might+bias+our+priors+or+introduce+strong+likelihoods\n",
              "that+produce+a+more+favorable+posterior+for+disenfranchised+groups.+While+this+does+not+treat+everyone+equal,+we+might\n",
              "give+certain+groups+a+more+positive+bias+to+account+for+negative+credit+score+impact+from+racist+or+sexist+features.+\n",
              "this+type+of+approach+may+drive+credit+scores+to+be+more+equal+in+outcome,+and+thus,+over+a+long+time+scale,+might+\n",
              "result+in+more+loans+and+greater+financial+trust+of+underrepresented+groups.+\n",
              "\n",
              "&prefill_q_2_2_1=\n",
              "Your+Response+to+Q+2.2.1+Here+(200+-+300+words)\n",
              "\n",
              "-+A+moratoriam+is+simply+saying+that+we+should+not+do+it+right+now,+but+maybe+later.+The+question+is+if+this+technology+belongs+in\n",
              "our+society+at+all+or+if+we+are+willing+to+accept+it+as+part+of+our+security+measures.+While+I+do+not+support+the+use+of+widespread\n",
              "facial+recognition+by+police+in+public+spaces,+I+think+it+is+simply+inevitable.+We+should+impose+a+moritorium+and+then+our+focus\n",
              "should+be+on+legislation+and+regulation+to+ensure+that+any+use+of+this+technology+is+constitutional+and+fair.+\n",
              "\n",
              "-+The+prison+system+is+flawed+in+so+many+ways,+but+one+of+the+worst+issues+is+how+we+reintroduce+people+into+society.+We+remove+\n",
              "people+from+society+and+place+them+in+a+lonely,+isolated,+and+violent+environment+for+long+sentences+and+then+release+them+and+expect\n",
              "them+to+seamlessly+rejoin+society.+We+offer+poor+or+no+resources+and+impose+strict+probation/parole+rules.+Even+the+most+minor+violations,\n",
              "like+being+5+min+late+to+a+meeting+due+to+delayed+public+transportation,+can+result+in+one+being+thrown+back+in+prison.+\n",
              "In+my+opinion,+facial+recognition+and+monitoring+of+those+on+court+supervision+would+be+akin+to+entrapment.+No+one+member+of+society+commits\n",
              "zero+violations+of+the+law.+We+just+are+not+held+accountable+for+every+time+we+exceed+the+speed+limit,+jaywalk,+etc.+This+type+of+\n",
              "constant+monitoring+would+surely+result+in+a+constant+cycle+of+prison-release-prison,+especially+for+individuals+already+targeted+by+police,+like+\n",
              "communities+of+color.+\n",
              "\n",
              "-+First+off,+we+would+want+to+ensure+that+the+data+are+trained+on+an+appropriately+diverse+data+and+then+no+labels+are+assigned+to+these+individuals\n",
              "that+would+allow+for+targeting+based+on+class,+religion,+etc.+A+bias+we+would+desire+is+signficant+performance+with+minimal+error.+If+a+level+of+confidence\n",
              "cannot+be+achieved,+the+image+should+be+labeled+as+unrecognized,+not+the+closest+guess.+In+Jan+2020,+a+black+man+was+arrested+in+Detroit+based+on+facial\n",
              "recognition+in+footage+obtained+by+police.+The+only+resemblance+was+the+fact+that+both+were+black.+While+we+do+not+know+the+inner+workings+of+the+network,+\n",
              "many+networks+have+a+discrete+set+of+choices+and+will+result+in+some+kind+of+output.+That+means+that+a+bias+in+the+system+would+impose+classification+scheme+\n",
              "in+which+matches+are+provided+based+on+probability.+This+means+that+the+highest+probability+would+be+assigned+as+the+match,+when+this+may+not+be+a+close+match+at+all,\n",
              "but+simply+a+high+enough+probability.+\n",
              "\n",
              "\n",
              "&prefill_q_2_2_2=\n",
              "-+Clearview+is+clearly+acting+outside+of+the+law+by+violating+social+media+terms+of+service.+Just+because+a+car+is+parked+on+the+street+does+not+mean+I+can+own+it+if+I+get+in+it+and+start+it.+Publically+accessible+does+not+equal+public+availabitliy+here.+Sure,+it+is+\n",
              "almost+impossible+to+stop+people+from+finding+our+picture+on+the+internet,+but+using+it+as+data+is+a+violation.\n",
              "\n",
              "-+Models+are+trained+to+learn+based+on+their+structure+and+the+data+they+are+given.+Humans+choose+the+model+structure,+the+loss,+and+then+data.+I+think+models+become+bias+because+we\n",
              "push+them+to+learn+that+way.+I+do+not+know+if+I+think+models+are+inherently+bias+w/o+human+influence.+\n",
              "\n",
              "&prefill_cumulative_times=[2977.30878067]\"\n",
              "            frameborder=\"0\"\n",
              "            allowfullscreen\n",
              "        ></iframe>\n",
              "        "
            ],
            "text/plain": [
              "<IPython.lib.display.IFrame at 0x7f022cdb7d30>"
            ]
          },
          "metadata": {
            "tags": []
          },
          "output_type": "display_data"
        }
      ],
      "source": [
        "import time\n",
        "import numpy as np\n",
        "from IPython.display import IFrame\n",
        "#@markdown #Run Cell to Show Airtable Form\n",
        "#@markdown ##**Confirm your answers and then click \"Submit\"**\n",
        "\n",
        "def prefill_form(src, fields: dict):\n",
        "  '''\n",
        "  src: the original src url to embed the form\n",
        "  fields: a dictionary of field:value pairs,\n",
        "  e.g. {\"pennkey\": my_pennkey, \"location\": my_location}\n",
        "  '''\n",
        "  prefills = \"&\".join([\"prefill_%s=%s\"%(key, fields[key]) for key in fields])\n",
        "  src = src + prefills\n",
        "  src = \"+\".join(src.split(\" \"))\n",
        "  return src\n",
        "\n",
        "\n",
        "#autofill time if it is not present\n",
        "try: t0;\n",
        "except NameError: t0 = time.time()\n",
        "try: t1;\n",
        "except NameError: t1 = time.time()\n",
        "\n",
        "#autofill fields if they are not present\n",
        "#a missing pennkey and pod will result in an Airtable warning\n",
        "#which is easily fixed user-side.\n",
        "try: my_pennkey;\n",
        "except NameError: my_pennkey = \"\"\n",
        "try: my_pod;\n",
        "except NameError: my_pod = \"Select\"\n",
        "try: q_2_1;\n",
        "except NameError: q_2_1 = \"\"\n",
        "try: q_2_2_1;\n",
        "except NameError: q_2_2_1 = \"\"\n",
        "try: q_2_2_2;\n",
        "except NameError: q_2_2_2 = \"\"\n",
        "\n",
        "\n",
        "times = np.array([t1])-t0\n",
        "\n",
        "fields = {\"pennkey\": my_pennkey,\n",
        "          \"pod\": my_pod,\n",
        "          \"q_2_1\": q_2_1,\n",
        "          \"q_2_2_1\": q_2_2_1,\n",
        "          \"q_2_2_2\": q_2_2_2,\n",
        "          \"cumulative_times\": times}\n",
        "\n",
        "src = \"https://airtable.com/embed/shrzuKoahe4ZQKvND?\"\n",
        "\n",
        "#now instead of the original source url, we do: src = prefill_form(src, fields)\n",
        "display(IFrame(src = prefill_form(src, fields), width = 800, height = 400))"
      ]
    }
  ],
  "metadata": {
    "accelerator": "GPU",
    "colab": {
      "collapsed_sections": [],
      "machine_shape": "hm",
      "name": "W3_Homework_JB.ipynb",
      "provenance": []
    },
    "interpreter": {
      "hash": "479f1e5494f4f006e705bc60b75c83849d57e561d86768f65a122aaaf55f6a14"
    },
    "kernelspec": {
      "display_name": "Python 3.9.11 ('pytorch_local')",
      "language": "python",
      "name": "python3"
    },
    "language_info": {
      "codemirror_mode": {
        "name": "ipython",
        "version": 3
      },
      "file_extension": ".py",
      "mimetype": "text/x-python",
      "name": "python",
      "nbconvert_exporter": "python",
      "pygments_lexer": "ipython3",
      "version": "3.9.11"
    }
  },
  "nbformat": 4,
  "nbformat_minor": 0
}
